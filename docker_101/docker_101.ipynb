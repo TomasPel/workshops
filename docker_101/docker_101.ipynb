{
 "cells": [
  {
   "cell_type": "markdown",
   "metadata": {},
   "source": [
    "# What is Docker?\n",
    "\n",
    "Docker makes development efficient and predictable\n",
    "Docker takes away repetitive, mundane configuration tasks and is used throughout the development lifecycle for fast, easy and portable application development - desktop and cloud. Docker’s comprehensive end to end platform includes UIs, CLIs, APIs and security that are engineered to work together across the entire application delivery lifecycle.\n",
    "\n",
    "\n",
    "[Official docker page](https://www.docker.com/)"
   ]
  },
  {
   "cell_type": "markdown",
   "metadata": {},
   "source": [
    "# How does it work?\n",
    "\n",
    "![docker containers vs VMs](https://lh6.googleusercontent.com/JLzilHI8wTeXfpclTthVU8Tkg4F_pWBbFwf8lsgHycscIAcK8fslXQlW06lb5lYnfEK-eJXHvvSFNbnANY5A4O6js7KY1ic-Y1jvt-UbTB3aHzq7AOrv0CSotz8vpK5K4Xpj0BMH)"
   ]
  },
  {
   "cell_type": "markdown",
   "metadata": {},
   "source": [
    "# Why Docker?\n",
    "\n",
    "\n",
    "1. Easily change new version - compatibility check\n",
    "2. Image on your machine == image on your colleagues machine\n",
    "3. Minimal images for faster shipping and storing\n",
    "4. Everything is isolated - modular and secure\n",
    "\n",
    "![No more excuses?](https://miro.medium.com/max/800/1*DPS45Tufsih-zED3To4k6g.jpeg)\n"
   ]
  },
  {
   "cell_type": "markdown",
   "metadata": {},
   "source": [
    "# My Plan is to cover minimal knowledge in order to help you create dev env"
   ]
  },
  {
   "cell_type": "markdown",
   "metadata": {},
   "source": [
    "# I will not go into the architecture!\n",
    "\n",
    "Reasons - not really sure about everything and whole presentation is based on my playing around experience. Don't want to make a fool out of myself saying something not entirely true."
   ]
  },
  {
   "cell_type": "markdown",
   "metadata": {},
   "source": [
    "![Let's get down to business](https://media.tenor.com/images/81073b6af5e0988f351951444ad27e53/raw)"
   ]
  },
  {
   "cell_type": "markdown",
   "metadata": {},
   "source": [
    "We have a neat command named ps. It lists all the running processes"
   ]
  },
  {
   "cell_type": "code",
   "execution_count": 1,
   "metadata": {},
   "outputs": [
    {
     "name": "stdout",
     "output_type": "stream",
     "text": [
      "  PID TTY           TIME CMD\r\n",
      "67106 ttys001    0:01.50 -zsh\r\n",
      "68107 ttys001    0:02.18 /Library/Frameworks/Python.framework/Versions/3.7/Reso\r\n"
     ]
    }
   ],
   "source": [
    "!ps"
   ]
  },
  {
   "cell_type": "markdown",
   "metadata": {},
   "source": [
    "We have analogy to that in docker: **docker ps**"
   ]
  },
  {
   "cell_type": "code",
   "execution_count": 2,
   "metadata": {},
   "outputs": [
    {
     "name": "stdout",
     "output_type": "stream",
     "text": [
      "CONTAINER ID   IMAGE     COMMAND   CREATED   STATUS    PORTS     NAMES\r\n"
     ]
    }
   ],
   "source": [
    "!docker ps"
   ]
  },
  {
   "cell_type": "markdown",
   "metadata": {},
   "source": [
    "We have 0 docker processes running"
   ]
  },
  {
   "cell_type": "markdown",
   "metadata": {},
   "source": [
    "# How we can run some docker container on our machine?\n",
    "\n",
    "We can used **docker run**\n",
    "\n",
    "![docker run](https://www.devteam.space/wp-content/uploads/2017/03/container_explainer.png)\n",
    "\n",
    "\n",
    "# Let's try and run container with postgres DB on our machine.\n",
    "\n",
    "## Step 1\n",
    "\n",
    "Go to google and search for **docker postgres** and choose the [hub.docker.com one](https://hub.docker.com/_/postgres)\n",
    "\n",
    "## Step 2\n",
    "\n",
    "Figure out which version you are going to use. at the moment I'm preparing this we have something like:\n",
    "\n",
    "13.2, 13, latest\n",
    "\n",
    "\n",
    "13.2-alpine, 13-alpine, alpine\n",
    "\n",
    "\n",
    "12.6, 12\n",
    "\n",
    "\n",
    "12.6-alpine, 12-alpine\n",
    "\n",
    "\n",
    "Options we have:\n",
    "* specific version\n",
    "* latest\n",
    "* specific version - alpine\n",
    "\n",
    "What's this **alpine**?\n",
    "\n",
    "Alpine is minimal viable image of the container. Bare bones as you might say. If you are app/code is working with alpine - go for it. \n",
    "\n",
    "**Benefits of alpine**:\n",
    "* small image - faster to pull and run\n",
    "* if something is missing - you can easily add with additional code in docker file (will be covered in later parts) \n",
    "\n",
    "## Step 3\n",
    "\n",
    "**docker run postgres:VERSION_YOU_CHOSE**\n",
    "\n",
    "[docker run](https://docs.docker.com/engine/reference/commandline/run/)\n"
   ]
  },
  {
   "cell_type": "code",
   "execution_count": 9,
   "metadata": {},
   "outputs": [
    {
     "name": "stdout",
     "output_type": "stream",
     "text": [
      "Error: Database is uninitialized and superuser password is not specified.\r\n",
      "       You must specify POSTGRES_PASSWORD to a non-empty value for the\r\n",
      "       superuser. For example, \"-e POSTGRES_PASSWORD=password\" on \"docker run\".\r\n",
      "\r\n",
      "       You may also use \"POSTGRES_HOST_AUTH_METHOD=trust\" to allow all\r\n",
      "       connections without a password. This is *not* recommended.\r\n",
      "\r\n",
      "       See PostgreSQL documentation about \"trust\":\r\n",
      "       https://www.postgresql.org/docs/current/auth-trust.html\r\n"
     ]
    }
   ],
   "source": [
    "!docker run postgres:13-alpine\n"
   ]
  },
  {
   "cell_type": "markdown",
   "metadata": {},
   "source": [
    "**Oh... I need to pass the password...**\n",
    "\n",
    "Also in order to don't stop Jupyter notebook we need to detach the process.\n",
    "\n",
    "Detaching: **-d**\n",
    "\n"
   ]
  },
  {
   "cell_type": "code",
   "execution_count": 11,
   "metadata": {
    "scrolled": true
   },
   "outputs": [
    {
     "name": "stdout",
     "output_type": "stream",
     "text": [
      "165f736ad9a6b4572743d8ff6169239297026fa9898518e6f3c139804fbcebaa\r\n"
     ]
    }
   ],
   "source": [
    "!docker run -e POSTGRES_PASSWORD=mysecretpassword -d postgres:13-alpine "
   ]
  },
  {
   "cell_type": "markdown",
   "metadata": {},
   "source": [
    "# Verification of process"
   ]
  },
  {
   "cell_type": "code",
   "execution_count": 12,
   "metadata": {},
   "outputs": [
    {
     "name": "stdout",
     "output_type": "stream",
     "text": [
      "CONTAINER ID   IMAGE                COMMAND                  CREATED        STATUS                  PORTS      NAMES\r\n",
      "165f736ad9a6   postgres:13-alpine   \"docker-entrypoint.s…\"   1 second ago   Up Less than a second   5432/tcp   eager_galileo\r\n"
     ]
    }
   ],
   "source": [
    "!docker ps"
   ]
  },
  {
   "cell_type": "markdown",
   "metadata": {},
   "source": [
    "## If you'd try to connect with some other tool to check DB you won't see it..\n",
    "\n",
    "## In order to see it we need to map that port for us to access it\n"
   ]
  },
  {
   "cell_type": "markdown",
   "metadata": {},
   "source": [
    "Port exposure:\n",
    "\n",
    "**docker run -p HOST_PORT:CONTAINER_PORT DOCKER_IMAGE**\n"
   ]
  },
  {
   "cell_type": "code",
   "execution_count": 13,
   "metadata": {},
   "outputs": [
    {
     "name": "stdout",
     "output_type": "stream",
     "text": [
      "aa036162846937aabccb69c700bfd37715d05a065dcbc1ec7e8145559e6e9583\r\n"
     ]
    }
   ],
   "source": [
    "!docker run -p 5400:5432 -e POSTGRES_PASSWORD=mysecretpassword -d postgres:13-alpine "
   ]
  },
  {
   "cell_type": "markdown",
   "metadata": {},
   "source": [
    "![Let's celebrate](https://media.giphy.com/media/lMameLIF8voLu8HxWV/giphy.gif)"
   ]
  },
  {
   "cell_type": "markdown",
   "metadata": {},
   "source": [
    "ok, enough of celebrations!\n",
    "\n",
    "You probably have a question about docker run result we got back, right?\n",
    "\n",
    "**aa036162846937aabccb69c700bfd37715d05a065dcbc1ec7e8145559e6e9583**\n",
    "\n",
    "What is it?\n",
    "\n",
    "this is your full docker container id. If you check closely to **docker ps** result: **aa036162846937a** it's a match to the first part of the full container id.\n",
    "\n",
    "in case you want to run your docker container again you can use shorter substring of it and docker will map it.\n",
    "\n",
    "let's stop the container using **docker stop CONTAINER_ID**\n",
    "\n",
    "__BTW: There is an option to **kill** your container. Difference between them: Stop - shutdown gracefully.__"
   ]
  },
  {
   "cell_type": "code",
   "execution_count": 18,
   "metadata": {},
   "outputs": [
    {
     "name": "stdout",
     "output_type": "stream",
     "text": [
      "aa036162846937aab\r\n"
     ]
    }
   ],
   "source": [
    "!docker stop aa036162846937aab "
   ]
  },
  {
   "cell_type": "markdown",
   "metadata": {},
   "source": [
    "# Do I have to each time to use the long docker run command for same container?\n",
    "\n",
    "Answer: No!"
   ]
  },
  {
   "cell_type": "code",
   "execution_count": 19,
   "metadata": {},
   "outputs": [
    {
     "name": "stdout",
     "output_type": "stream",
     "text": [
      "aa036162846937aab\r\n"
     ]
    }
   ],
   "source": [
    "!docker start aa036162846937aab "
   ]
  },
  {
   "cell_type": "code",
   "execution_count": 20,
   "metadata": {},
   "outputs": [
    {
     "name": "stdout",
     "output_type": "stream",
     "text": [
      "CONTAINER ID   IMAGE                COMMAND                  CREATED          STATUS                  PORTS                    NAMES\r\n",
      "aa0361628469   postgres:13-alpine   \"docker-entrypoint.s…\"   47 seconds ago   Up Less than a second   0.0.0.0:5400->5432/tcp   suspicious_davinci\r\n"
     ]
    }
   ],
   "source": [
    "!docker ps"
   ]
  },
  {
   "cell_type": "markdown",
   "metadata": {},
   "source": [
    "# But wait, how do I know my docker container id if I need it tomorrow?\n",
    "![confusion](https://i.kym-cdn.com/entries/icons/original/000/018/489/nick-young-confused-face-300x256-nqlyaa.jpg)\n",
    "\n",
    "\n",
    "# No worries, there is a solution!\n",
    "\n",
    "Let's stop the container again."
   ]
  },
  {
   "cell_type": "code",
   "execution_count": 21,
   "metadata": {},
   "outputs": [
    {
     "name": "stdout",
     "output_type": "stream",
     "text": [
      "aa036162846937aab\r\n"
     ]
    }
   ],
   "source": [
    "!docker stop aa036162846937aab"
   ]
  },
  {
   "cell_type": "markdown",
   "metadata": {},
   "source": [
    "docker ps has this option to show past processes/containers running with passing more parameters [link to docs](https://docs.docker.com/engine/reference/commandline/ps/)"
   ]
  },
  {
   "cell_type": "code",
   "execution_count": 22,
   "metadata": {},
   "outputs": [
    {
     "name": "stdout",
     "output_type": "stream",
     "text": [
      "CONTAINER ID   IMAGE                COMMAND                  CREATED              STATUS                     PORTS     NAMES\r\n",
      "aa0361628469   postgres:13-alpine   \"docker-entrypoint.s…\"   About a minute ago   Exited (0) 2 seconds ago             suspicious_davinci\r\n"
     ]
    }
   ],
   "source": [
    "!docker ps -all"
   ]
  },
  {
   "cell_type": "markdown",
   "metadata": {},
   "source": [
    "BAM! now if something changes you can always go back and get it whenever you need it.\n"
   ]
  },
  {
   "cell_type": "markdown",
   "metadata": {},
   "source": [
    "**Is there an easier way to create those containers without passing params and etc?**\n",
    "\n",
    "**Answer to that: YES**\n",
    "\n",
    "it's Dockerfile\n",
    "\n",
    "\n",
    "\n"
   ]
  },
  {
   "cell_type": "markdown",
   "metadata": {},
   "source": [
    "# Dockerfile"
   ]
  },
  {
   "cell_type": "markdown",
   "metadata": {},
   "source": [
    "Dockerfile is a config specific for docker and containing all environment variables related to your container.\n",
    "\n",
    "## This code is already in the Dockerfile inside this directory\n",
    "FROM postgres:13-alpine\n",
    "\n",
    "\n",
    "ENV POSTGRES_PASSWORD=myverybadpassword\n",
    "\n",
    "\n",
    "\n",
    "## Verify that you see this:"
   ]
  },
  {
   "cell_type": "code",
   "execution_count": 23,
   "metadata": {},
   "outputs": [
    {
     "name": "stdout",
     "output_type": "stream",
     "text": [
      "FROM postgres:13-alpine\r\n",
      "ENV POSTGRES_PASSWORD=myverybadpassword"
     ]
    }
   ],
   "source": [
    "!cat Dockerfile"
   ]
  },
  {
   "cell_type": "markdown",
   "metadata": {},
   "source": [
    "in order to create our own local image we need to build Dockerfile\n",
    "\n",
    "for this we're going to use **docker build .** \n",
    "\n",
    "Dot here means we're build a Dockerfile inside this directory. If you want you can move your Dockerfile to different directory and do **docker build ./DIRECTORY/.**"
   ]
  },
  {
   "cell_type": "code",
   "execution_count": 29,
   "metadata": {},
   "outputs": [
    {
     "name": "stdout",
     "output_type": "stream",
     "text": [
      "Sending build context to Docker daemon  58.88kB\n",
      "Step 1/2 : FROM postgres:13-alpine\n",
      " ---> bfc401b315be\n",
      "Step 2/2 : ENV POSTGRES_PASSWORD=myverybadpassword\n",
      " ---> Using cache\n",
      " ---> af178fb8a3eb\n",
      "Successfully built af178fb8a3eb\n"
     ]
    }
   ],
   "source": [
    "!docker build ."
   ]
  },
  {
   "cell_type": "markdown",
   "metadata": {},
   "source": [
    "We have our own image id now: **af178fb8a3eb**\n",
    "\n",
    "let's run it with same port mapping"
   ]
  },
  {
   "cell_type": "code",
   "execution_count": 33,
   "metadata": {},
   "outputs": [
    {
     "name": "stdout",
     "output_type": "stream",
     "text": [
      "4604c463e7e6b359993130eb6b66fd055c8f5adb69d7d44bb37bb246c088a939\r\n"
     ]
    }
   ],
   "source": [
    "!docker run -p 5400:5432 -d af178fb8a3eb"
   ]
  },
  {
   "cell_type": "code",
   "execution_count": 34,
   "metadata": {
    "scrolled": true
   },
   "outputs": [
    {
     "name": "stdout",
     "output_type": "stream",
     "text": [
      "CONTAINER ID   IMAGE          COMMAND                  CREATED         STATUS         PORTS                    NAMES\r\n",
      "4604c463e7e6   af178fb8a3eb   \"docker-entrypoint.s…\"   5 seconds ago   Up 4 seconds   0.0.0.0:5400->5432/tcp   awesome_shaw\r\n"
     ]
    }
   ],
   "source": [
    "!docker ps"
   ]
  },
  {
   "cell_type": "code",
   "execution_count": 35,
   "metadata": {},
   "outputs": [
    {
     "name": "stdout",
     "output_type": "stream",
     "text": [
      "4604c463e7e6\r\n"
     ]
    }
   ],
   "source": [
    "!docker stop 4604c463e7e6"
   ]
  },
  {
   "cell_type": "markdown",
   "metadata": {},
   "source": [
    "# One more thing...\n",
    "\n",
    "We can add tags to our docker build in order to access the dockerfile in something like tomasp_special_env:latest\n",
    "\n",
    "all you have to do is to add a tag with **-t** parameter"
   ]
  },
  {
   "cell_type": "code",
   "execution_count": 36,
   "metadata": {
    "scrolled": true
   },
   "outputs": [
    {
     "name": "stdout",
     "output_type": "stream",
     "text": [
      "Sending build context to Docker daemon  58.88kB\n",
      "Step 1/2 : FROM postgres:13-alpine\n",
      " ---> bfc401b315be\n",
      "Step 2/2 : ENV POSTGRES_PASSWORD=myverybadpassword\n",
      " ---> Using cache\n",
      " ---> af178fb8a3eb\n",
      "Successfully built af178fb8a3eb\n",
      "Successfully tagged tomas_postgres_local:latest\n"
     ]
    }
   ],
   "source": [
    "!docker build -t tomas_postgres_local:latest ."
   ]
  },
  {
   "cell_type": "code",
   "execution_count": 37,
   "metadata": {},
   "outputs": [
    {
     "name": "stdout",
     "output_type": "stream",
     "text": [
      "4a2f48d620b6296e91def1c5db5abc75a4181fa1d2b57d79121b65cdf46ebeab\r\n"
     ]
    }
   ],
   "source": [
    "!docker run -d tomasp_postgres_version:latest"
   ]
  },
  {
   "cell_type": "code",
   "execution_count": 38,
   "metadata": {},
   "outputs": [
    {
     "name": "stdout",
     "output_type": "stream",
     "text": [
      "CONTAINER ID   IMAGE                            COMMAND                  CREATED         STATUS        PORTS      NAMES\r\n",
      "4a2f48d620b6   tomasp_postgres_version:latest   \"docker-entrypoint.s…\"   2 seconds ago   Up 1 second   5432/tcp   pensive_tharp\r\n"
     ]
    }
   ],
   "source": [
    "!docker ps"
   ]
  },
  {
   "cell_type": "markdown",
   "metadata": {},
   "source": [
    "# Also let's run python docker image"
   ]
  },
  {
   "cell_type": "code",
   "execution_count": 32,
   "metadata": {},
   "outputs": [
    {
     "name": "stdout",
     "output_type": "stream",
     "text": [
      "Unable to find image 'python:3.7-alpine' locally\n",
      "3.7-alpine: Pulling from library/python\n",
      "\n",
      "\u001b[1B57a56b15: Already exists \n",
      "\u001b[1B5f2e27e9: Already exists \n",
      "\u001b[1Baa61232f: Already exists \n",
      "\u001b[1Beb02ec5c: Already exists \n",
      "\u001b[1B9520c775: Already exists Digest: sha256:9e53915453001b112e3d88a4b8ebcf2229ff943c202b5335dccb71917d49eae5\n",
      "Status: Downloaded newer image for python:3.7-alpine\n"
     ]
    }
   ],
   "source": [
    "!docker run python:3.7-alpine"
   ]
  },
  {
   "cell_type": "markdown",
   "metadata": {},
   "source": [
    "# But I hope you already see a flaw?\n",
    "\n",
    "In order to setup all working environment it's a bit annoying to run everything one by one. What if they have dependencies? Is there a solution?\n",
    "\n",
    "**Answer: YES!**\n",
    "\n",
    "## Docker compose\n",
    "\n",
    "It's a different configuration file which allows you to quickly add multiple Dockerfiles or different images and do whatever you specify with them. In order to run your images you just need to docker compose and run the image id \n",
    "\n",
    "### Structure:\n",
    "**docker-compose.yml** file ([link to official page](https://docs.docker.com/compose/)):\n",
    "\n",
    "```yml\n",
    "version: \"3.8\"\n",
    "services:\n",
    "  app :\n",
    "    image: \"image_you_will_use\"\n",
    "    container_name: \"container_name\"\n",
    "    ports:\n",
    "      - 8080:8080\n",
    "  db:\n",
    "    build: ./database/\n",
    "```\n",
    "* version means compose file format (has to work with your docker engine)  [link to docs](https://docs.docker.com/compose/compose-file/)\n",
    "* app from image and pass necessary information in docker-compose file\n",
    "* db we build from dockerfile inside the database directory\n",
    "\n",
    "**We're going to use -d to run it as detached**\n",
    "\n",
    "In order to build/compose it to a docker image run docker-compose either in the directory you are in with:\n",
    "```bash\n",
    "docker-compose up -d --build\n",
    "```\n",
    "\n",
    "or pass the file:\n",
    "\n",
    "```bash\n",
    "docker-compose -f \"PATH/YOU/HAVE/PUT/DOCKERCOMPOSE/FILE/docker-compose.yml\" up -d --build\n",
    "```\n",
    "\n",
    "[link to docker compose docs](https://docs.docker.com/compose/reference/overview/)"
   ]
  },
  {
   "cell_type": "markdown",
   "metadata": {},
   "source": [
    "# All in all - Docker FTW.\n",
    "\n",
    "It makes development life easier, create image once, run your apps on top of it and see if it works.\n",
    "\n",
    "My personal reasons why:\n",
    "* Need an isolated ENV for benchmarking/testing etc\n",
    "* Testing version upgrade if something breaks\n",
    "* If you messed up your local env and you're just lazy to clean it"
   ]
  },
  {
   "cell_type": "code",
   "execution_count": null,
   "metadata": {},
   "outputs": [],
   "source": []
  }
 ],
 "metadata": {
  "kernelspec": {
   "display_name": "Python 3",
   "language": "python",
   "name": "python3"
  },
  "language_info": {
   "codemirror_mode": {
    "name": "ipython",
    "version": 3
   },
   "file_extension": ".py",
   "mimetype": "text/x-python",
   "name": "python",
   "nbconvert_exporter": "python",
   "pygments_lexer": "ipython3",
   "version": "3.7.6"
  }
 },
 "nbformat": 4,
 "nbformat_minor": 4
}
